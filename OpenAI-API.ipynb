{
 "cells": [
  {
   "attachments": {},
   "cell_type": "markdown",
   "metadata": {},
   "source": [
    "## Setup"
   ]
  },
  {
   "cell_type": "code",
   "execution_count": null,
   "metadata": {},
   "outputs": [],
   "source": [
    "# Import dependencies\n",
    "import openai\n",
    "import json\n",
    "import pandas as pd\n",
    "import os\n",
    "import requests\n",
    "\n",
    "# Retrieve API keys\n",
    "# These should be set as environmental variables\n",
    "OpenAI_API_KEY = os.getenv('OPENAI_API_KEY')\n",
    "Azure_API_KEY = os.getenv('AZURE_API_KEY')"
   ]
  },
  {
   "attachments": {},
   "cell_type": "markdown",
   "metadata": {},
   "source": [
    "## Interacting directly with OpenAI's servers"
   ]
  },
  {
   "attachments": {},
   "cell_type": "markdown",
   "metadata": {},
   "source": [
    "##### Via Python package"
   ]
  },
  {
   "cell_type": "code",
   "execution_count": null,
   "metadata": {},
   "outputs": [],
   "source": [
    "# Set API key for package\n",
    "openai.api_key = OpenAI_API_KEY"
   ]
  },
  {
   "cell_type": "code",
   "execution_count": null,
   "metadata": {},
   "outputs": [],
   "source": [
    "# Extract models available to DF, there's 64\n",
    "models = openai.Model.list()\n",
    "models = pd.DataFrame(models['data']).sort_values(by='id')"
   ]
  },
  {
   "cell_type": "code",
   "execution_count": null,
   "metadata": {},
   "outputs": [],
   "source": [
    "# Moderation assessment model\n",
    "\n",
    "moderation_resp = openai.Moderation.create(model='text-moderation-latest', input='People from whoville are fools')\n",
    "# moderation_resp = openai.Moderation.create(input='Wilder sent crashing to the canvas')\n",
    "# moderation_resp = openai.Moderation.create(input='Knife crime')\n",
    "\n",
    "# This is where the model results are stored\n",
    "moderation_resp"
   ]
  },
  {
   "cell_type": "code",
   "execution_count": null,
   "metadata": {},
   "outputs": [],
   "source": [
    "# Completion model\n",
    "\n",
    "completion_resp = openai.Completion.create(\n",
    "    model='text-davinci-003',\n",
    "    prompt='Complete the following phrase: Veni, Vidi,',\n",
    "    temperature=0.7)\n",
    "\n",
    "# This is where the model results are stored\n",
    "completion_resp['choices'][0]['text']"
   ]
  },
  {
   "attachments": {},
   "cell_type": "markdown",
   "metadata": {},
   "source": [
    "##### Now execute the same models but interacting directly with the API"
   ]
  },
  {
   "cell_type": "code",
   "execution_count": null,
   "metadata": {},
   "outputs": [],
   "source": [
    "# Define endpoint\n",
    "url = 'https://api.openai.com/v1/moderations'\n",
    "\n",
    "# Set headers including API key\n",
    "headers = {\n",
    "  'Authorization': f'Bearer {OpenAI_API_KEY}',\n",
    "  'Content-Type': 'application/json'\n",
    "}\n",
    "\n",
    "# Set model inputs\n",
    "payload = {\n",
    "  'input': 'People from whoville are fools',\n",
    "  'model': 'text-moderation-stable'\n",
    "}\n",
    "\n",
    "# Execute request\n",
    "response = requests.post(url, headers=headers, json=payload)\n",
    "response = json.loads(response.text)\n",
    "\n",
    "response"
   ]
  },
  {
   "cell_type": "code",
   "execution_count": null,
   "metadata": {},
   "outputs": [],
   "source": [
    "# Define endpoint\n",
    "url = 'https://api.openai.com/v1/completions'\n",
    "\n",
    "# Set headers including API key\n",
    "headers = {\n",
    "    'Authorization': f'Bearer {OpenAI_API_KEY}',\n",
    "    'Content-Type': 'application/json'\n",
    "}\n",
    "\n",
    "# Set model inputs\n",
    "payload = {\n",
    "    'prompt': 'Complete the following phrase: Veni, Vidi, ',\n",
    "    'model': 'text-davinci-003',\n",
    "    'temperature': 0.7\n",
    "}\n",
    "\n",
    "# Execute request\n",
    "response = requests.post(url, headers=headers, json=payload)\n",
    "response = json.loads(response.text)\n",
    "\n",
    "# This is where the model results are stored\n",
    "response['choices'][0]['text']"
   ]
  },
  {
   "attachments": {},
   "cell_type": "markdown",
   "metadata": {},
   "source": [
    "## Interacting with an Azure deployment of OpenAI's models"
   ]
  },
  {
   "cell_type": "markdown",
   "metadata": {},
   "source": [
    "##### Via Python package"
   ]
  },
  {
   "cell_type": "code",
   "execution_count": null,
   "metadata": {},
   "outputs": [],
   "source": [
    "# Set API key for package\n",
    "openai.api_key = Azure_API_KEY\n",
    "\n",
    "# Define Azure deployment variables\n",
    "azure_account_url = 'https://ascentopenai.openai.azure.com/'\n",
    "deployment_name = 'test-deployment'"
   ]
  },
  {
   "cell_type": "code",
   "execution_count": null,
   "metadata": {},
   "outputs": [],
   "source": [
    "# These fields direct the package to the Azure deployment, rather than the default OpenAI endpoint\n",
    "openai.api_type = 'azure'\n",
    "openai.api_base = azure_account_url\n",
    "openai.api_version = '2022-12-01'\n",
    "\n",
    "completion_resp = openai.Completion.create(\n",
    "  engine=deployment_name,\n",
    "  prompt='Complete the following phrase: Veni, Vidi,',\n",
    "  temperature=0.5)\n",
    "\n",
    "# This is where the model results are stored\n",
    "completion_resp['choices'][0]['text']"
   ]
  },
  {
   "attachments": {},
   "cell_type": "markdown",
   "metadata": {},
   "source": [
    "##### Now execute the same model but interacting directly with the API"
   ]
  },
  {
   "cell_type": "code",
   "execution_count": null,
   "metadata": {},
   "outputs": [],
   "source": [
    "# Define endpoint\n",
    "url = f'{azure_account_url}openai/deployments/{deployment_name}/completions?api-version=2022-12-01'\n",
    "\n",
    "# Set headers including API key\n",
    "headers = {\n",
    "    'api-key': Azure_API_KEY,\n",
    "    'Content-Type': 'application/json'\n",
    "}\n",
    "\n",
    "# Set model inputs\n",
    "payload = {\n",
    "  'prompt': 'Complete the following phrase: Veni, Vidi,',\n",
    "  'temperature': 0.5\n",
    "}\n",
    "\n",
    "# Execute request\n",
    "response = requests.post(url, headers=headers, json=payload)\n",
    "response = json.loads(response.text)\n",
    "\n",
    "# This is where the model results are stored\n",
    "response['choices'][0]['text']"
   ]
  }
 ],
 "metadata": {
  "kernelspec": {
   "display_name": "test",
   "language": "python",
   "name": "python3"
  },
  "language_info": {
   "codemirror_mode": {
    "name": "ipython",
    "version": 3
   },
   "file_extension": ".py",
   "mimetype": "text/x-python",
   "name": "python",
   "nbconvert_exporter": "python",
   "pygments_lexer": "ipython3",
   "version": "3.11.2"
  },
  "orig_nbformat": 4
 },
 "nbformat": 4,
 "nbformat_minor": 2
}
