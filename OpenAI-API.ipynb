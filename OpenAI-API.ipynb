{
 "cells": [
  {
   "attachments": {},
   "cell_type": "markdown",
   "metadata": {},
   "source": [
    "Setup"
   ]
  },
  {
   "cell_type": "code",
   "execution_count": 1,
   "metadata": {},
   "outputs": [],
   "source": [
    "# Import dependencies\n",
    "import openai\n",
    "import json\n",
    "import pandas as pd\n",
    "import os\n",
    "import requests\n",
    "\n",
    "# Set API key\n",
    "API_KEY = os.getenv('OPENAI_API_KEY')\n",
    "openai.api_key = os.getenv('OPENAI_API_KEY')"
   ]
  },
  {
   "attachments": {},
   "cell_type": "markdown",
   "metadata": {},
   "source": [
    "First look at the Python package"
   ]
  },
  {
   "cell_type": "code",
   "execution_count": 2,
   "metadata": {},
   "outputs": [],
   "source": [
    "# Extract models available to DF, there's 64\n",
    "models = openai.Model.list()\n",
    "models = pd.DataFrame(models['data']).sort_values(by='id')"
   ]
  },
  {
   "cell_type": "code",
   "execution_count": 3,
   "metadata": {},
   "outputs": [
    {
     "data": {
      "text/plain": [
       "<OpenAIObject id=modr-748OEMwCBQdnmum5YvqZueiwYu6d9 at 0x1a128086ed0> JSON: {\n",
       "  \"id\": \"modr-748OEMwCBQdnmum5YvqZueiwYu6d9\",\n",
       "  \"model\": \"text-moderation-004\",\n",
       "  \"results\": [\n",
       "    {\n",
       "      \"categories\": {\n",
       "        \"hate\": true,\n",
       "        \"hate/threatening\": false,\n",
       "        \"self-harm\": false,\n",
       "        \"sexual\": false,\n",
       "        \"sexual/minors\": false,\n",
       "        \"violence\": false,\n",
       "        \"violence/graphic\": false\n",
       "      },\n",
       "      \"category_scores\": {\n",
       "        \"hate\": 0.8631312847137451,\n",
       "        \"hate/threatening\": 1.6965859117590298e-07,\n",
       "        \"self-harm\": 1.101324365038181e-08,\n",
       "        \"sexual\": 1.4872586007186328e-07,\n",
       "        \"sexual/minors\": 1.4105261403329905e-09,\n",
       "        \"violence\": 5.8814286603592336e-05,\n",
       "        \"violence/graphic\": 2.6809404474192888e-08\n",
       "      },\n",
       "      \"flagged\": true\n",
       "    }\n",
       "  ]\n",
       "}"
      ]
     },
     "execution_count": 3,
     "metadata": {},
     "output_type": "execute_result"
    }
   ],
   "source": [
    "# Moderation assessment model\n",
    "\n",
    "moderation_resp = openai.Moderation.create(model='text-moderation-latest', input='People from whoville are fools')\n",
    "# moderation_resp = openai.Moderation.create(input='Wilder sent crashing to the canvas')\n",
    "# moderation_resp = openai.Moderation.create(input='Knife crime')\n",
    "\n",
    "# This is where the model results are stored\n",
    "moderation_resp"
   ]
  },
  {
   "cell_type": "code",
   "execution_count": 4,
   "metadata": {},
   "outputs": [
    {
     "data": {
      "text/plain": [
       "' \\n\\nVici'"
      ]
     },
     "execution_count": 4,
     "metadata": {},
     "output_type": "execute_result"
    }
   ],
   "source": [
    "# Completion model\n",
    "\n",
    "completion_resp = openai.Completion.create(\n",
    "    model='text-davinci-003',\n",
    "    prompt='Complete the following phrase: Veni, Vidi,',\n",
    "    temperature=0.7)\n",
    "\n",
    "# This is where the model results are stored\n",
    "completion_resp['choices'][0]['text']"
   ]
  },
  {
   "attachments": {},
   "cell_type": "markdown",
   "metadata": {},
   "source": [
    "Now execute the same models but interacting directly with the API"
   ]
  },
  {
   "cell_type": "code",
   "execution_count": 5,
   "metadata": {},
   "outputs": [
    {
     "data": {
      "text/plain": [
       "{'id': 'modr-748OGU3Ww3TbkCL1XFM2yq2rT47aE',\n",
       " 'model': 'text-moderation-001',\n",
       " 'results': [{'flagged': True,\n",
       "   'categories': {'sexual': False,\n",
       "    'hate': True,\n",
       "    'violence': False,\n",
       "    'self-harm': False,\n",
       "    'sexual/minors': False,\n",
       "    'hate/threatening': False,\n",
       "    'violence/graphic': False},\n",
       "   'category_scores': {'sexual': 0.0032732095569372177,\n",
       "    'hate': 0.8229409456253052,\n",
       "    'violence': 0.014659680426120758,\n",
       "    'self-harm': 0.0012743014376610518,\n",
       "    'sexual/minors': 0.004013063386082649,\n",
       "    'hate/threatening': 0.0007698708213865757,\n",
       "    'violence/graphic': 0.0012585219228640199}}]}"
      ]
     },
     "execution_count": 5,
     "metadata": {},
     "output_type": "execute_result"
    }
   ],
   "source": [
    "# Define endpoint\n",
    "url = 'https://api.openai.com/v1/moderations'\n",
    "\n",
    "# Set headers including API key\n",
    "headers = {\n",
    "  'Authorization': f'Bearer {API_KEY}',\n",
    "  'Content-Type': 'application/json'\n",
    "}\n",
    "\n",
    "# Set model inputs\n",
    "payload = {\n",
    "  'input': 'People from whoville are fools',\n",
    "  'model': 'text-moderation-stable'\n",
    "}\n",
    "\n",
    "# Execute request\n",
    "response = requests.post(url, headers=headers, json=payload)\n",
    "response = json.loads(response.text)\n",
    "\n",
    "response"
   ]
  },
  {
   "cell_type": "code",
   "execution_count": 6,
   "metadata": {},
   "outputs": [
    {
     "data": {
      "text/plain": [
       "'\\n\\nVici'"
      ]
     },
     "execution_count": 6,
     "metadata": {},
     "output_type": "execute_result"
    }
   ],
   "source": [
    "# Define endpoint\n",
    "url = 'https://api.openai.com/v1/completions'\n",
    "\n",
    "# Set headers including API key\n",
    "headers = {\n",
    "    'Authorization': f'Bearer {API_KEY}',\n",
    "    'Content-Type': 'application/json'\n",
    "}\n",
    "\n",
    "# Set model inputs\n",
    "payload = {\n",
    "    'prompt': 'Complete the following phrase: Veni, Vidi, ',\n",
    "    'model': 'text-davinci-003',\n",
    "    'max_tokens': 7,\n",
    "    'temperature': 0.7\n",
    "}\n",
    "\n",
    "# Execute request\n",
    "response = requests.post(url, headers=headers, json=payload)\n",
    "response = json.loads(response.text)\n",
    "\n",
    "# This is where the model results are stored\n",
    "response['choices'][0]['text']"
   ]
  }
 ],
 "metadata": {
  "kernelspec": {
   "display_name": "test",
   "language": "python",
   "name": "python3"
  },
  "language_info": {
   "codemirror_mode": {
    "name": "ipython",
    "version": 3
   },
   "file_extension": ".py",
   "mimetype": "text/x-python",
   "name": "python",
   "nbconvert_exporter": "python",
   "pygments_lexer": "ipython3",
   "version": "3.11.2"
  },
  "orig_nbformat": 4
 },
 "nbformat": 4,
 "nbformat_minor": 2
}
